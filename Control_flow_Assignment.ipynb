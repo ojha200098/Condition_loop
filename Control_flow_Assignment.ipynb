{
 "cells": [
  {
   "cell_type": "code",
   "execution_count": 48,
   "id": "8e682490",
   "metadata": {},
   "outputs": [
    {
     "name": "stdout",
     "output_type": "stream",
     "text": [
      "Enter the number1\n",
      "Number is Positive\n"
     ]
    }
   ],
   "source": [
    "# 1. Write a Python program to check if a given number is positive or negative.\n",
    "def check(x):\n",
    "    if x<0:\n",
    "        print(\"NUmber is Negativ\")\n",
    "    else:\n",
    "        print(\"Number is Positive\")\n",
    "check(int(input(\"Enter the number\")))"
   ]
  },
  {
   "cell_type": "code",
   "execution_count": 55,
   "id": "c37b340e",
   "metadata": {},
   "outputs": [
    {
     "name": "stdout",
     "output_type": "stream",
     "text": [
      "Enter the number11\n",
      "Not Eligible\n"
     ]
    }
   ],
   "source": [
    "# 2. Create a program that determines if a person is eligible to vote based on their age.\n",
    "n=int(input(\"Enter the number\"))\n",
    "a=(lambda x: print(\"Your are eligible\") if x>=18 else print(\"Not Eligible\"))\n",
    "a(n)"
   ]
  },
  {
   "cell_type": "code",
   "execution_count": 56,
   "id": "d54ad8b7",
   "metadata": {},
   "outputs": [
    {
     "name": "stdout",
     "output_type": "stream",
     "text": [
      "Enter the first degit5\n",
      "Enter the 2nd degit6\n",
      "6\n"
     ]
    }
   ],
   "source": [
    "# 3. Develop a program to find the maximum of two numbers using if-else statements.\n",
    "def ma(x,y):\n",
    "    if x>y:\n",
    "        print(x)\n",
    "    else:\n",
    "        print(y)\n",
    "ma(int(input(\"Enter the first degit\")),int(input(\"Enter the 2nd degit\")))"
   ]
  },
  {
   "cell_type": "code",
   "execution_count": 59,
   "id": "904df02f",
   "metadata": {},
   "outputs": [
    {
     "name": "stdout",
     "output_type": "stream",
     "text": [
      "Enter the year2010\n",
      "It is the not leap yeer\n"
     ]
    }
   ],
   "source": [
    "# 4. Write a Python script to classify a given year as a leap year or not.\n",
    "n=int(input(\"Enter the year\"))\n",
    "a=(lambda x: print(\"It is the leap year\") if x%4==0 else print(\"It is the not leap yeer\"))\n",
    "a(n)"
   ]
  },
  {
   "cell_type": "code",
   "execution_count": 64,
   "id": "1f0b285e",
   "metadata": {},
   "outputs": [
    {
     "name": "stdout",
     "output_type": "stream",
     "text": [
      "Enter the charcterb\n",
      "It is consonant\n"
     ]
    }
   ],
   "source": [
    "# 5. Create a program that checks whether a character is a vowel or a consonant.\n",
    "n=input(\"Enter the charcter\")\n",
    "def chwr(x):\n",
    "      x=x.lower()\n",
    "      v=['a','e','i','o','u']\n",
    "      if x in v:\n",
    "          print(\"It is vowels\")\n",
    "      else:\n",
    "          print(\"It is consonant\")\n",
    "\n",
    "chwr(n)"
   ]
  },
  {
   "cell_type": "code",
   "execution_count": 67,
   "id": "bd6373b2",
   "metadata": {},
   "outputs": [
    {
     "name": "stdout",
     "output_type": "stream",
     "text": [
      "Enter the number8\n",
      "evem\n"
     ]
    }
   ],
   "source": [
    "# 6. Implement a program to determine whether a given number is even or odd.\n",
    "n=int(input(\"Enter the number\"))\n",
    "a=(lambda x: print(\"evem\") if x%2==0 else print(\"Odd\"))\n",
    "a(n)"
   ]
  },
  {
   "cell_type": "code",
   "execution_count": 73,
   "id": "e5388312",
   "metadata": {},
   "outputs": [
    {
     "name": "stdout",
     "output_type": "stream",
     "text": [
      "Enter the number-5\n"
     ]
    },
    {
     "data": {
      "text/plain": [
       "5"
      ]
     },
     "execution_count": 73,
     "metadata": {},
     "output_type": "execute_result"
    }
   ],
   "source": [
    "# 7. Write a Python function to calculate the absolute value of a number without using the `abs()` function.\n",
    "n=int(input(\"Enter the number\"))\n",
    "def ab(x):\n",
    "    if x<0:\n",
    "        return -x\n",
    "    else:\n",
    "        return x\n",
    "ab(n)"
   ]
  },
  {
   "cell_type": "code",
   "execution_count": 82,
   "id": "58dc6503",
   "metadata": {},
   "outputs": [
    {
     "name": "stdout",
     "output_type": "stream",
     "text": [
      "Enter the number10\n",
      "10\n"
     ]
    }
   ],
   "source": [
    "# 8. Develop a program that determines the largest of three given numbers using if-else statements\n",
    "n=int(input(\"Enter the number\"))\n",
    "def lar(x,y,z):\n",
    "    if x>y and x>z:\n",
    "        print(x)\n",
    "    if y>x and y>z:\n",
    "        print(z)\n",
    "    else:\n",
    "        print(z)\n",
    "lar(5,6,n)"
   ]
  },
  {
   "cell_type": "code",
   "execution_count": 79,
   "id": "9c0e0a4b",
   "metadata": {},
   "outputs": [
    {
     "name": "stdout",
     "output_type": "stream",
     "text": [
      "Enter the String  aba\n",
      "Yes\n"
     ]
    }
   ],
   "source": [
    "#9. Create a program that checks if a given string is a palindrome. \n",
    "s=input(\"Enter the String  \")\n",
    "a=(lambda x: print(\"Yes\") if x==x[::-1] else print(\"NO\"))\n",
    "a(s)"
   ]
  },
  {
   "cell_type": "code",
   "execution_count": 89,
   "id": "bea0d423",
   "metadata": {},
   "outputs": [
    {
     "name": "stdout",
     "output_type": "stream",
     "text": [
      "Enter the score99\n",
      "A\n"
     ]
    }
   ],
   "source": [
    "# 10. Write a Python program to calculate the grade based on a student's score.\n",
    "# grade <80 is A,<60is b,<50 is c and less than 50 is fail\n",
    "n=int(input(\"Enter the score\"))\n",
    "def grade(x):\n",
    "    if x>=80:\n",
    "        print(\"A\")\n",
    "    elif x<=60 and x<80:\n",
    "        print(\"B\")\n",
    "    elif x<=50 and x<60:\n",
    "        print(\"c\")\n",
    "    else:\n",
    "        print(\"Fail\")\n",
    "grade(n)\n",
    "            "
   ]
  },
  {
   "cell_type": "code",
   "execution_count": null,
   "id": "55de3c51",
   "metadata": {},
   "outputs": [],
   "source": []
  },
  {
   "cell_type": "code",
   "execution_count": 93,
   "id": "fc0e3e24",
   "metadata": {},
   "outputs": [
    {
     "name": "stdout",
     "output_type": "stream",
     "text": [
      "Enter the number 1= 1\n",
      "Enter the number 2= 2\n",
      "Enter the number 3= 1\n",
      "2\n"
     ]
    }
   ],
   "source": [
    "# 11. Write a program to find the largest among three numbers using nested if-else statements.\n",
    "n1=int(input(\"Enter the number 1= \"))\n",
    "n2=int(input(\"Enter the number 2= \"))\n",
    "n3=int(input(\"Enter the number 3= \"))\n",
    "if n1>n2:\n",
    "    if n1>n3:\n",
    "        print(n1)\n",
    "    else:\n",
    "        print(n3)\n",
    "else:\n",
    "    if n2>n3:\n",
    "        print(n2)\n",
    "    else:\n",
    "        print(n3)\n"
   ]
  },
  {
   "cell_type": "code",
   "execution_count": 96,
   "id": "b9c7806a",
   "metadata": {},
   "outputs": [
    {
     "name": "stdout",
     "output_type": "stream",
     "text": [
      "Enter the number side 1= 1\n",
      "Enter the number side 2= 2\n",
      "Enter the number side 3= 2\n",
      "Isosceles\n"
     ]
    }
   ],
   "source": [
    "# 12. Implement a program to determine if a triangle is equilateral, isosceles, or scalene.\n",
    "n1=int(input(\"Enter the number side 1= \"))\n",
    "n2=int(input(\"Enter the number side 2= \"))\n",
    "n3=int(input(\"Enter the number side 3= \"))\n",
    "if n1==n2==n3:\n",
    "    print(\"equilateral Triannle\")\n",
    "else:\n",
    "    if n1==n2 or n1==n3 or n2==n3:\n",
    "        print(\"Isosceles\")\n",
    "    else:\n",
    "        print(\"Scalene\")"
   ]
  },
  {
   "cell_type": "code",
   "execution_count": 100,
   "id": "ab482161",
   "metadata": {},
   "outputs": [
    {
     "name": "stdout",
     "output_type": "stream",
     "text": [
      "Enter the year2020\n",
      "Leap year\n"
     ]
    }
   ],
   "source": [
    "#13. Develop a program that checks if a year is a leap year and also if it is a century year.\n",
    "n=int(input(\"Enter the year\"))\n",
    "def lx(x):\n",
    "    if x%4==0 and x%100==0:\n",
    "        print(\"It is leap and also centuty year\")\n",
    "    else:\n",
    "        if  x%4==0:\n",
    "            print(\"Leap year\")\n",
    "        else:\n",
    "            if x%100==0:\n",
    "                print(\"century year\")\n",
    "            else:\n",
    "                return \"Not a leap and century year\"\n",
    "lx(n)"
   ]
  },
  {
   "cell_type": "code",
   "execution_count": 159,
   "id": "1d78c25e",
   "metadata": {},
   "outputs": [
    {
     "name": "stdout",
     "output_type": "stream",
     "text": [
      "Enter the year-1\n",
      "Negative number\n"
     ]
    }
   ],
   "source": [
    "# 14. Write a Python script to determine if a number is positive, negative, or zero.\n",
    "n=int(input(\"Enter the year\"))\n",
    "def ch(x):\n",
    "    if x<0:\n",
    "        print(\"Negative number\")\n",
    "\n",
    "    elif x==0:\n",
    "        print(\"Number is Zero\")\n",
    "    else:\n",
    "        print(\"Number is Positive\")\n",
    "ch(n)"
   ]
  },
  {
   "cell_type": "code",
   "execution_count": 161,
   "id": "ee342d8e",
   "metadata": {},
   "outputs": [
    {
     "name": "stdout",
     "output_type": "stream",
     "text": [
      "Enter the age17\n",
      "Teenager\n"
     ]
    }
   ],
   "source": [
    "#15. Create a program to check if a person is a teenager (between 13 and 19 years old)./\n",
    "n=int(input(\"Enter the age\"))\n",
    "def teen(age):\n",
    "    if age>=13 and age <=19:\n",
    "        print(\"Teenager\")\n",
    "teen(n)"
   ]
  },
  {
   "cell_type": "code",
   "execution_count": 164,
   "id": "f6bcdab6",
   "metadata": {},
   "outputs": [
    {
     "name": "stdout",
     "output_type": "stream",
     "text": [
      "Enter the angle80\n",
      "Acute Angle\n"
     ]
    }
   ],
   "source": [
    "#16. Develop a program that determines the type of angle based on its measure (acute, obtuse, or right).\n",
    "n=int(input(\"Enter the angle\"))\n",
    "a=(lambda x:print(\"Right Anle\") if n==90 else print(\"Acute Angle\") if x<90 else print(\"obtuse Angle\"))\n",
    "a(n)"
   ]
  },
  {
   "cell_type": "code",
   "execution_count": 189,
   "id": "dd9f0ff3",
   "metadata": {},
   "outputs": [
    {
     "name": "stdout",
     "output_type": "stream",
     "text": [
      "Enter the equation like only number 11x2+3x-2\n",
      "Enter the number1\n",
      "Enter the number-2\n",
      "Enter the number-15\n",
      "64\n",
      "-3.0 5.0\n"
     ]
    }
   ],
   "source": [
    "#17. Write a Python program to calculate the roots of a quadratic equation.\n",
    "print(\"Enter the equation like only number 11x2+3x-2\")\n",
    "a=int(input(\"Enter the number\"))\n",
    "b=int(input(\"Enter the number\"))\n",
    "c=int(input(\"Enter the number\"))\n",
    "x=b**2-4*a*c\n",
    "print(x)\n",
    "y=(-b-(x**0.5))/2*a\n",
    "z=(-b+(x**0.5))/2*a\n",
    "print(y,z)\n"
   ]
  },
  {
   "cell_type": "code",
   "execution_count": 190,
   "id": "42f0cfd4",
   "metadata": {},
   "outputs": [
    {
     "name": "stdout",
     "output_type": "stream",
     "text": [
      "Enter the number7\n",
      "Sunday\n"
     ]
    }
   ],
   "source": [
    "# 18. Implement a program to determine the day of the week based on a user-provided number (1 for Monday, 2\n",
    "#for Tuesday, etc.).\n",
    "n=int(input(\"Enter the number\"))\n",
    "if n==1:\n",
    "    print(\"Monday\")\n",
    "elif n==2:\n",
    "    print(\"Tuesday\")\n",
    "elif n==3:\n",
    "    print(\"Wednesday\")\n",
    "elif n==2:\n",
    "    print(\"Thursday\")\n",
    "elif n==2:\n",
    "    print(\"Friday\")\n",
    "elif n==6:\n",
    "    print(\"Saturday\")\n",
    "elif n==7:\n",
    "    print(\"Sunday\")\n",
    "    "
   ]
  },
  {
   "cell_type": "code",
   "execution_count": 193,
   "id": "9ade8825",
   "metadata": {},
   "outputs": [
    {
     "name": "stdout",
     "output_type": "stream",
     "text": [
      "Enter the year2000\n",
      "it is leap year and evenly divisible by 400\n"
     ]
    }
   ],
   "source": [
    "# 19. Create a program that determines if a year is a leap year and also if it is evenly divisible by 400.\n",
    "n=int(input(\"Enter the year\"))\n",
    "if n%4==0 and n%400==0:\n",
    "    print(\"it is leap year and evenly divisible by 400\")\n",
    "elif n%4==0:\n",
    "    print(\"Leap year\")\n",
    "else:\n",
    "    print(\"It is normal year\")"
   ]
  },
  {
   "cell_type": "code",
   "execution_count": 200,
   "id": "cc7846ef",
   "metadata": {},
   "outputs": [
    {
     "name": "stdout",
     "output_type": "stream",
     "text": [
      "Enter the number5\n",
      "Prime\n"
     ]
    }
   ],
   "source": [
    "# 20. Develop a program that checks if a given number is prime or not using nested if-else statements.\n",
    "n=int(input(\"Enter the number\"))\n",
    "def p(x):\n",
    "    c=0\n",
    "    for i in range(1,x):\n",
    "        if x%i==0:\n",
    "            c=c+1\n",
    "    if c==1:\n",
    "        print(\"Prime\")\n",
    "    else:\n",
    "        return \"Not a prime\"\n",
    "\n",
    "p(n)"
   ]
  },
  {
   "cell_type": "code",
   "execution_count": 201,
   "id": "61fe1c68",
   "metadata": {},
   "outputs": [
    {
     "name": "stdout",
     "output_type": "stream",
     "text": [
      "Enter the score55\n",
      "B\n"
     ]
    }
   ],
   "source": [
    "# 21. Write a Python program to assign grades based on different ranges of scores using elif statements.\n",
    "n=int(input(\"Enter the score\"))\n",
    "def grade(x):\n",
    "    if x>=80:\n",
    "        print(\"A\")\n",
    "    elif x<=60 and x<80:\n",
    "        print(\"B\")\n",
    "    elif x<=50 and x<60:\n",
    "        print(\"c\")\n",
    "    else:\n",
    "        print(\"Fail\")\n",
    "grade(n)\n",
    "        "
   ]
  },
  {
   "cell_type": "code",
   "execution_count": 207,
   "id": "df9829b1",
   "metadata": {},
   "outputs": [
    {
     "name": "stdout",
     "output_type": "stream",
     "text": [
      "Enter the Angle1\n",
      "Enter the @nd Angle2\n",
      "Enter the 3rd Angle1\n",
      "iso triangle\n"
     ]
    }
   ],
   "source": [
    "# 22. Implement a program to determine the type of a triangle based on its angles.\n",
    "s1=int(input(\"Enter the Angle\"))\n",
    "s2=int(input(\"Enter the @nd Angle\"))\n",
    "s3=int(input(\"Enter the 3rd Angle\"))\n",
    "if s1==s2==s3:\n",
    "    print(\"Equlateral\")\n",
    "elif s1==s2 or s1==s3 or s2==s3:\n",
    "    print(\"iso triangle\")\n",
    "else:\n",
    "    print(\"Normal Triangle\")\n",
    "    \n",
    "       \n"
   ]
  },
  {
   "cell_type": "code",
   "execution_count": 209,
   "id": "f92bd410",
   "metadata": {},
   "outputs": [
    {
     "name": "stdout",
     "output_type": "stream",
     "text": [
      "Enter the weight70\n",
      "Enter the height in mtr1.2\n",
      "48.611111111111114\n"
     ]
    }
   ],
   "source": [
    "# 23. Develop a program to categorize a given person's BMI into underweight, normal, overweight, or obese using\n",
    "#elif statements. \n",
    "the_height = float(input(\"Enter the height in cm: \"))  \n",
    "the_weight = float(input(\"Enter the weight in kg: \"))  \n",
    "# defining a function for BMI  \n",
    "the_BMI = the_weight / (the_height/100)**2  \n",
    "# printing the BMI  \n",
    "print(\"Your Body Mass Index is\", the_BMI)  \n",
    "# using the if-elif-else conditions  \n",
    "if the_BMI <= 18.5:  \n",
    "    print(\"Oops! You are underweight.\")  \n",
    "elif the_BMI <= 24.9:  \n",
    "    print(\"Awesome! You are healthy.\")  \n",
    "elif the_BMI <= 29.9:  \n",
    "    the_print(\"Eee! You are over weight.\")  \n",
    "else:  \n",
    "    print(\"Seesh! You are obese.\")  "
   ]
  },
  {
   "cell_type": "code",
   "execution_count": 210,
   "id": "5669461e",
   "metadata": {},
   "outputs": [
    {
     "name": "stdout",
     "output_type": "stream",
     "text": [
      "Enter the number6\n",
      "Number is Positive\n"
     ]
    }
   ],
   "source": [
    "#24. Create a program that determines whether a given number is positive, negative, or zero using elif\n",
    "#statements.\n",
    "def check(x):\n",
    "    if x<0:\n",
    "        print(\"NUmber is Negativ\")\n",
    "    else:\n",
    "        print(\"Number is Positive\")\n",
    "check(int(input(\"Enter the number\")))"
   ]
  },
  {
   "cell_type": "code",
   "execution_count": 220,
   "id": "00adcbd0",
   "metadata": {},
   "outputs": [
    {
     "name": "stdout",
     "output_type": "stream",
     "text": [
      "Enter the character@\n",
      "Itis Special\n"
     ]
    }
   ],
   "source": [
    "#25. Write a Python script to determine the type of a character (uppercase, lowercase, or special) using elif\n",
    "#statements.\n",
    "s=input(\"Enter the character\")\n",
    "if s.islower():\n",
    "    print(\"Lower\")\n",
    "elif s.isupper():\n",
    "    print(\"Upper\")\n",
    "elif s.isnumeric():\n",
    "    print(\"Number\")\n",
    "else:\n",
    "    print(\"Itis Special\")"
   ]
  },
  {
   "cell_type": "code",
   "execution_count": 228,
   "id": "e79c6de5",
   "metadata": {},
   "outputs": [
    {
     "name": "stdout",
     "output_type": "stream",
     "text": [
      "Enter the things typemetal\n",
      "20% discount\n"
     ]
    }
   ],
   "source": [
    "#26. Implement a program to calculate the discounted price based on different purchase amounts using elif\n",
    "#statements.\n",
    "def thing(x):\n",
    "    if x==\"wood\":\n",
    "        print(\"10% disocunt\")\n",
    "    elif x==\"metal\":\n",
    "        print(\"20% discount\")\n",
    "    else:\n",
    "        print(\"Noraml 5 % discount\")\n",
    "thing(input(\"Enter the things type\"))"
   ]
  },
  {
   "cell_type": "code",
   "execution_count": 230,
   "id": "ea21c97e",
   "metadata": {},
   "outputs": [
    {
     "name": "stdout",
     "output_type": "stream",
     "text": [
      "Enter the charge101\n"
     ]
    },
    {
     "data": {
      "text/plain": [
       "808"
      ]
     },
     "execution_count": 230,
     "metadata": {},
     "output_type": "execute_result"
    }
   ],
   "source": [
    "#27. Develop a program to calculate the electricity bill based on different consumption slabs using elif\n",
    "#statements.\n",
    "# Charge of electricity is <100 normal chragr 6 more than 8 charge\n",
    "def ele(c):\n",
    "    if c<=100 and c>0:\n",
    "        print(c*6)\n",
    "    else:\n",
    "        return c*8\n",
    "ele(int(input(\"Enter the charge\")))"
   ]
  },
  {
   "cell_type": "code",
   "execution_count": 113,
   "id": "022a9a33",
   "metadata": {},
   "outputs": [],
   "source": [
    "# 28. Create a program to determine the type of quadrilateral based on its angles and sides using elif\n",
    "#statements.\n",
    "1=int(input(\"Enter the Angle\"))\n",
    "s2=int(input(\"Enter the @nd Angle\"))\n",
    "s3=int(input(\"Enter the 3rd Angle\"))\n",
    "if s1==s2==s3:\n",
    "    print(\"Equlateral\")\n",
    "elif s1==s2 or s1==s3 or s2==s3:\n",
    "    print(\"iso triangle\")\n",
    "else:\n",
    "    print(\"Normal Triangle\")\n",
    "    "
   ]
  },
  {
   "cell_type": "code",
   "execution_count": 234,
   "id": "0110806b",
   "metadata": {},
   "outputs": [
    {
     "name": "stdout",
     "output_type": "stream",
     "text": [
      "Input the month (e.g. January, February etc.): March\n",
      "Input the day: 19\n",
      "Season is winter\n"
     ]
    }
   ],
   "source": [
    "#29. Write a Python script to determine the season based on a user-provided month using elif statements.\n",
    "month = input(\"Input the month (e.g. January, February etc.): \")\n",
    "day = int(input(\"Input the day: \"))\n",
    "\n",
    "if month in ('January', 'February', 'March'):\n",
    "\tseason = 'winter'\n",
    "elif month in ('April', 'May', 'June'):\n",
    "\tseason = 'spring'\n",
    "elif month in ('July', 'August', 'September'):\n",
    "\tseason = 'summer'\n",
    "else:\n",
    "\tseason = 'autumn'\n",
    "\n",
    "if (month == 'March') and (day > 19):\n",
    "\tseason = 'spring'\n",
    "elif (month == 'June') and (day > 20):\n",
    "\tseason = 'summer'\n",
    "elif (month == 'September') and (day > 21):\n",
    "\tseason = 'autumn'\n",
    "elif (month == 'December') and (day > 20):\n",
    "\tseason = 'winter'\n",
    "\n",
    "print(\"Season is\",season)\n"
   ]
  },
  {
   "cell_type": "code",
   "execution_count": 233,
   "id": "4b0acb47",
   "metadata": {},
   "outputs": [
    {
     "name": "stdout",
     "output_type": "stream",
     "text": [
      "Enter the year2000\n",
      "Enter the month number6\n",
      "Leap year\n"
     ]
    },
    {
     "data": {
      "text/plain": [
       "'30 days'"
      ]
     },
     "execution_count": 233,
     "metadata": {},
     "output_type": "execute_result"
    }
   ],
   "source": [
    "#30. Implement a program to determine the type of a year (leap or common) and month (30 or 31 days) using\n",
    "#elif statements.\n",
    "\n",
    "y=int(input(\"Enter the year\"))\n",
    "m=int(input(\"Enter the month number\"))\n",
    "def chc(a,b):\n",
    "    if a%4==0:\n",
    "        print(\"Leap year\")\n",
    "    else:\n",
    "        print(\"Noraml year\")\n",
    "    if m in [1,3,5,7,8,10,12]:\n",
    "        return \"31 days\"\n",
    "    elif m==2:\n",
    "        print(\"28 or 29 day depended on year\")\n",
    "    else:\n",
    "        return \"30 days\"\n",
    "chc(y,m)"
   ]
  },
  {
   "cell_type": "code",
   "execution_count": 221,
   "id": "16686b33",
   "metadata": {},
   "outputs": [
    {
     "name": "stdout",
     "output_type": "stream",
     "text": [
      "Enter the number5\n",
      "Positive\n"
     ]
    }
   ],
   "source": [
    "# 1. Write a Python program that checks if a given number is positive, negative, or zero.\n",
    "def check(x):\n",
    "    if x<0:\n",
    "        print(\"NUmber is Negativ\")\n",
    "    elif x==0:\n",
    "        print(\"Number is Zero\")\n",
    "    else:\n",
    "        print(\"Positive\")\n",
    "check(int(input(\"Enter the number\")))"
   ]
  },
  {
   "cell_type": "code",
   "execution_count": 236,
   "id": "feb421b0",
   "metadata": {},
   "outputs": [
    {
     "name": "stdout",
     "output_type": "stream",
     "text": [
      "Enter the age44\n",
      "Eligible for vote\n"
     ]
    }
   ],
   "source": [
    "# 2. Create a program to determine if a person is eligible to vote based on their age.\n",
    "y=int(input(\"Enter the age\"))\n",
    "a=(lambda x: print(\"Eligible for vote\" if x>=18 else print(\"Not eligible\")))\n",
    "a(y)"
   ]
  },
  {
   "cell_type": "code",
   "execution_count": 237,
   "id": "d7666cf3",
   "metadata": {},
   "outputs": [
    {
     "name": "stdout",
     "output_type": "stream",
     "text": [
      "Enter the number5\n",
      "Enter the number6\n",
      "6\n"
     ]
    }
   ],
   "source": [
    "# 3. Write a program to find the maximum of two given numbers using conditional statements.\n",
    "y=int(input(\"Enter the number\"))\n",
    "m=int(input(\"Enter the number\"))\n",
    "if y>m:\n",
    "    print(y)\n",
    "else:\n",
    "    print(m)\n"
   ]
  },
  {
   "cell_type": "code",
   "execution_count": 238,
   "id": "a97bd55a",
   "metadata": {},
   "outputs": [
    {
     "name": "stdout",
     "output_type": "stream",
     "text": [
      "Enter the score55\n",
      "B\n"
     ]
    }
   ],
   "source": [
    "# 4. Develop a program that calculates the grade of a student based on their exam score.\n",
    "n=int(input(\"Enter the score\"))\n",
    "def grade(x):\n",
    "    if x>=80:\n",
    "        print(\"A\")\n",
    "    elif x<=60 and x<80:\n",
    "        print(\"B\")\n",
    "    elif x<=50 and x<60:\n",
    "        print(\"c\")\n",
    "    else:\n",
    "        print(\"Fail\")\n",
    "grade(n)\n",
    "       "
   ]
  },
  {
   "cell_type": "code",
   "execution_count": 239,
   "id": "4c31dd20",
   "metadata": {},
   "outputs": [
    {
     "name": "stdout",
     "output_type": "stream",
     "text": [
      "Enter the year2010\n",
      "It is the not leap yeer\n"
     ]
    }
   ],
   "source": [
    "# 5. Create a program that checks if a year is a leap year or not.\n",
    "n=int(input(\"Enter the year\"))\n",
    "a=(lambda x: print(\"It is the leap year\") if x%4==0 else print(\"It is the not leap yeer\"))\n",
    "a(n)"
   ]
  },
  {
   "cell_type": "code",
   "execution_count": 241,
   "id": "5cbdd05d",
   "metadata": {},
   "outputs": [
    {
     "name": "stdout",
     "output_type": "stream",
     "text": [
      "Enter the Angle1\n",
      "Enter the @nd Angle1\n",
      "Enter the 3rd Angle1\n",
      "Equlateral\n"
     ]
    }
   ],
   "source": [
    "# 6. Write a program to classify a triangle based on its sides' lengths.\n",
    "s1=int(input(\"Enter the Angle\"))\n",
    "s2=int(input(\"Enter the @nd Angle\"))\n",
    "s3=int(input(\"Enter the 3rd Angle\"))\n",
    "if s1==s2==s3:\n",
    "    print(\"Equlateral\")\n",
    "elif s1==s2 or s1==s3 or s2==s3:\n",
    "    print(\"iso triangle\")\n",
    "else:\n",
    "    print(\"Normal Triangle\")\n",
    "    \n",
    "    "
   ]
  },
  {
   "cell_type": "code",
   "execution_count": 246,
   "id": "5741e356",
   "metadata": {},
   "outputs": [
    {
     "name": "stdout",
     "output_type": "stream",
     "text": [
      "Enter the number7\n",
      "7\n"
     ]
    }
   ],
   "source": [
    "# 7. Build a program that determines the largest of three given numbers.\n",
    "n=int(input(\"Enter the number\"))\n",
    "def lar(x,y,z):\n",
    "    if x>y and x>z:\n",
    "        print(x)\n",
    "    if y>x and y>z:\n",
    "        print(y)\n",
    "    else:\n",
    "        print(z)\n",
    "lar(5,6,n)"
   ]
  },
  {
   "cell_type": "code",
   "execution_count": 247,
   "id": "99cfbd8e",
   "metadata": {},
   "outputs": [
    {
     "name": "stdout",
     "output_type": "stream",
     "text": [
      "Enter the charcterf\n",
      "It is consonant\n"
     ]
    }
   ],
   "source": [
    "# 8. Develop a program that checks whether a character is a vowel or a consonant.\n",
    "n=input(\"Enter the charcter\")\n",
    "def chwr(x):\n",
    "      x=x.lower()\n",
    "      v=['a','e','i','o','u']\n",
    "      if x in v:\n",
    "          print(\"It is vowels\")\n",
    "      else:\n",
    "          print(\"It is consonant\")\n",
    "\n",
    "chwr(n)"
   ]
  },
  {
   "cell_type": "code",
   "execution_count": 248,
   "id": "5648b332",
   "metadata": {},
   "outputs": [
    {
     "name": "stdout",
     "output_type": "stream",
     "text": [
      "Enter the things typewood\n",
      "10% disocunt\n"
     ]
    }
   ],
   "source": [
    "# 9. Create a program to calculate the total cost of a shopping cart based on discounts.\n",
    "def thing(x):\n",
    "    if x==\"wood\":\n",
    "        print(\"10% disocunt\")\n",
    "    elif x==\"metal\":\n",
    "        print(\"20% discount\")\n",
    "    else:\n",
    "        print(\"Noraml 5 % discount\")\n",
    "thing(input(\"Enter the things type\"))"
   ]
  },
  {
   "cell_type": "code",
   "execution_count": 249,
   "id": "76971315",
   "metadata": {},
   "outputs": [
    {
     "name": "stdout",
     "output_type": "stream",
     "text": [
      "Enter the number6\n",
      "evem\n"
     ]
    }
   ],
   "source": [
    "#10. Write a program that checks if a given number is even or odd.\n",
    "n=int(input(\"Enter the number\"))\n",
    "a=(lambda x: print(\"evem\") if x%2==0 else print(\"Odd\"))\n",
    "a(n)"
   ]
  },
  {
   "cell_type": "code",
   "execution_count": 254,
   "id": "722b5127",
   "metadata": {},
   "outputs": [
    {
     "name": "stdout",
     "output_type": "stream",
     "text": [
      "Enter the number1\n",
      "Enter the number-2\n",
      "Enter the number-15\n",
      "-3.0 5.0\n"
     ]
    }
   ],
   "source": [
    "# 11. Write a program that calculates the roots of a quadratic equation .\n",
    "a=int(input(\"Enter the number\"))\n",
    "b=int(input(\"Enter the number\"))\n",
    "c=int(input(\"Enter the number\"))\n",
    "x=b**2-4*a*c\n",
    "y=(-b-x**0.5)/2*a\n",
    "z=(-b+x**0.5)/2*a\n",
    "print(y,z)"
   ]
  },
  {
   "cell_type": "code",
   "execution_count": 251,
   "id": "f5b11d43",
   "metadata": {},
   "outputs": [
    {
     "name": "stdout",
     "output_type": "stream",
     "text": [
      "Enter the number4\n",
      "Thursday\n"
     ]
    }
   ],
   "source": [
    "# 12. Create a program that determines the day of the week based on the day number (1-7).\n",
    "n=int(input(\"Enter the number\"))\n",
    "if n==1:\n",
    "    print(\"Monday\")\n",
    "elif n==2:\n",
    "    print(\"Tuesday\")\n",
    "elif n==3:\n",
    "    print(\"Wednesday\")\n",
    "elif n==4:\n",
    "    print(\"Thursday\")\n",
    "elif n==5:\n",
    "    print(\"Friday\")\n",
    "elif n==6:\n",
    "    print(\"Saturday\")\n",
    "elif n==7:\n",
    "    print(\"Sunday\")"
   ]
  },
  {
   "cell_type": "code",
   "execution_count": 266,
   "id": "67df82ea",
   "metadata": {},
   "outputs": [
    {
     "name": "stdout",
     "output_type": "stream",
     "text": [
      "120\n"
     ]
    }
   ],
   "source": [
    "# 13. Develop a program that calculates the factorial of a given number using recursion.\n",
    "def factorial(n):\n",
    "    if n == 0 or n == 1:\n",
    "        return 1\n",
    "    else:\n",
    "        return n * factorial(n - 1)\n",
    "\n",
    "print(factorial(5)) "
   ]
  },
  {
   "cell_type": "code",
   "execution_count": 255,
   "id": "82f66ae7",
   "metadata": {},
   "outputs": [
    {
     "name": "stdout",
     "output_type": "stream",
     "text": [
      "Enter the number10\n",
      "10\n"
     ]
    }
   ],
   "source": [
    "# 14. Write a program to find the largest among three numbers without using the `max()` function.\n",
    "n=int(input(\"Enter the number\"))\n",
    "def lar(x,y,z):\n",
    "    if x>y and x>z:\n",
    "        print(x)\n",
    "    if y>x and y>z:\n",
    "        print(y)\n",
    "    else:\n",
    "        print(z)\n",
    "lar(5,6,n)"
   ]
  },
  {
   "cell_type": "code",
   "execution_count": 292,
   "id": "de2ba248",
   "metadata": {},
   "outputs": [
    {
     "name": "stdout",
     "output_type": "stream",
     "text": [
      " 1 for check balance 2 for withdrwal 3 exit\n",
      "enter the number3\n",
      "exit\n"
     ]
    }
   ],
   "source": [
    "# 15. Create a program that simulates a basic ATM transaction menu.\n",
    "print(\" 1 for check balance 2 for withdrwal 3 exit\")\n",
    "n=int(input(\"enter the number\"))\n",
    "if n==1:\n",
    "    print(\"Balance check\")\n",
    "elif n==2:\n",
    "    print(\"Withdrawal\")\n",
    "elif n==3:\n",
    "    print(\"exit\")\n",
    "else:\n",
    "    print(\"Wrong input\")"
   ]
  },
  {
   "cell_type": "code",
   "execution_count": 256,
   "id": "ff4fe7ff",
   "metadata": {},
   "outputs": [
    {
     "name": "stdout",
     "output_type": "stream",
     "text": [
      "Enter the String  aba\n",
      "Yes\n"
     ]
    }
   ],
   "source": [
    "# 16. Build a program that checks if a given string is a palindrome or not.\n",
    "s=input(\"Enter the String  \")\n",
    "a=(lambda x: print(\"Yes\") if x==x[::-1] else print(\"NO\"))\n",
    "a(s)"
   ]
  },
  {
   "cell_type": "code",
   "execution_count": 267,
   "id": "bba49ca5",
   "metadata": {},
   "outputs": [
    {
     "name": "stdout",
     "output_type": "stream",
     "text": [
      "2.8\n"
     ]
    }
   ],
   "source": [
    "# 17. Write a program that calculates the average of a list of numbers, excluding the smallest and largest values.\n",
    "l=[1,2,3,4,4]\n",
    "print(sum(l)/len(l))"
   ]
  },
  {
   "cell_type": "code",
   "execution_count": 268,
   "id": "7f1f9371",
   "metadata": {},
   "outputs": [
    {
     "name": "stdout",
     "output_type": "stream",
     "text": [
      "111.2\n"
     ]
    }
   ],
   "source": [
    "# 18. Develop a program that converts a given temperature from Celsius to Fahrenheit.\n",
    "c=44\n",
    "print((c*9/5)+32)"
   ]
  },
  {
   "cell_type": "code",
   "execution_count": 269,
   "id": "5cf9e153",
   "metadata": {},
   "outputs": [
    {
     "name": "stdout",
     "output_type": "stream",
     "text": [
      "Enter the number2\n",
      "Enter the number3\n",
      "Enter the operaation +,-,/,*+\n",
      "5\n"
     ]
    }
   ],
   "source": [
    "# 19. Create a program that simulates a basic calculator for addition, subtraction, multiplication, and division.\n",
    "a=int(input(\"Enter the number\"))\n",
    "b=int(input(\"Enter the number\"))\n",
    "o=input(\"Enter the operaation +,-,/,*\")\n",
    "if o==\"+\":\n",
    "    print(a+b)\n",
    "elif o==\"-\":\n",
    "    print(a-b)\n",
    "elif o==\"/\":\n",
    "    print(a/b)\n",
    "elif o==\"*\":\n",
    "    print(a*b)\n"
   ]
  },
  {
   "cell_type": "code",
   "execution_count": 278,
   "id": "bb784008",
   "metadata": {},
   "outputs": [
    {
     "name": "stdout",
     "output_type": "stream",
     "text": [
      "12500.0\n"
     ]
    }
   ],
   "source": [
    "# 20. Write a program that determines the roots of a cubic equation using the Cardano formula.\n",
    "a=500000\n",
    "print(a/100*2.5)"
   ]
  },
  {
   "cell_type": "code",
   "execution_count": 275,
   "id": "daa67bf8",
   "metadata": {},
   "outputs": [
    {
     "name": "stdout",
     "output_type": "stream",
     "text": [
      "Enter the number500000\n",
      "you owe 12500.0 Rupees in tax!\n"
     ]
    }
   ],
   "source": [
    "# 21. Create a program that calculates the income tax based on the user's income and tax brackets.\n",
    "income=int(input(\"Enter the number\"))\n",
    "\n",
    "if income <= 250000:  #2 Lakh 50 thousand\n",
    "    tax = 0\n",
    "\n",
    "elif income <= 500000: #5 Lakh\n",
    "    tax = (income - 250000) * 0.05\n",
    "\n",
    "elif income <= 750000: #7 lakh 50 thousand\n",
    "    tax = (income - 500000) * 0.10 + 12500 \n",
    "\n",
    "elif income <= 1000000: #10 Lakh\n",
    "    tax = (income - 750000) * 0.15 + 37500 \n",
    "\n",
    "elif income <= 1250000: #12 lakh 50 thousand\n",
    "    tax = (income - 1000000) * 0.20 + 75000 \n",
    "\n",
    "elif income <= 1500000: #15 lakh\n",
    "    tax = (income - 1250000) * 0.25 + 125000 \n",
    "\n",
    "else:\n",
    "    tax = (income - 1500000) * 0.30 + 187500\n",
    "\n",
    "print(\"you owe\", tax, \"Rupees in tax!\")"
   ]
  },
  {
   "cell_type": "code",
   "execution_count": 290,
   "id": "55682430",
   "metadata": {},
   "outputs": [
    {
     "name": "stdout",
     "output_type": "stream",
     "text": [
      "Paper\n"
     ]
    }
   ],
   "source": [
    "# 22. Write a program that simulates a rock-paper-scissors game against the computer.\n",
    "import random\n",
    "a=[\"rock\",\"Scissor\",\"Paper\"]\n",
    "com=a[random.randint(0,2)]\n",
    "u=input(\"enter\")\n",
    "if u==com:\n",
    "    print(\"Tie\")\n"
   ]
  },
  {
   "cell_type": "code",
   "execution_count": 137,
   "id": "3f2304cd",
   "metadata": {},
   "outputs": [],
   "source": [
    "#23. Develop a program that generates a random password based on user preferences (length, complexity)."
   ]
  },
  {
   "cell_type": "code",
   "execution_count": 138,
   "id": "737799a1",
   "metadata": {},
   "outputs": [],
   "source": [
    "# 24. Create a program that implements a simple text-based adventure game with branching scenarios."
   ]
  },
  {
   "cell_type": "code",
   "execution_count": 139,
   "id": "340f9937",
   "metadata": {},
   "outputs": [],
   "source": [
    "# 25. Build a program that solves a linear equation for x, considering different cases."
   ]
  },
  {
   "cell_type": "code",
   "execution_count": 140,
   "id": "cba5cb92",
   "metadata": {},
   "outputs": [],
   "source": [
    "# 26. Write a program that simulates a basic quiz game with multiple-choice questions and scoring."
   ]
  },
  {
   "cell_type": "code",
   "execution_count": 273,
   "id": "e4356a8d",
   "metadata": {},
   "outputs": [
    {
     "name": "stdout",
     "output_type": "stream",
     "text": [
      "Enter the year2001\n",
      "Not a prime yeaar\n"
     ]
    }
   ],
   "source": [
    "# 27. Develop a program that determines whether a given year is a prime number or not.\n",
    "a=int(input(\"Enter the year\"))\n",
    "if a%2==0:\n",
    "    print(\"Prime Year\")\n",
    "else:\n",
    "    print(\"Not a prime yeaar\")"
   ]
  },
  {
   "cell_type": "code",
   "execution_count": 142,
   "id": "67a62443",
   "metadata": {},
   "outputs": [],
   "source": [
    "# 28. Create a program that sorts three numbers in ascending order using conditional statements."
   ]
  },
  {
   "cell_type": "code",
   "execution_count": 143,
   "id": "12a4f555",
   "metadata": {},
   "outputs": [],
   "source": [
    "# 29. Build a program that determines the roots of a quartic equation using numerical methods."
   ]
  },
  {
   "cell_type": "code",
   "execution_count": 272,
   "id": "b0d8f013",
   "metadata": {},
   "outputs": [
    {
     "name": "stdout",
     "output_type": "stream",
     "text": [
      "Enter the height in cm: 55\n",
      "Enter the weight in kg: 143\n",
      "Your Body Mass Index is 472.72727272727263\n",
      "Seesh! You are obese.\n"
     ]
    }
   ],
   "source": [
    "# 30. Write a program that calculates the BMI (Body Mass Index) and provides health recommendations based\n",
    "#on the user's input.\n",
    "the_height = float(input(\"Enter the height in cm: \"))  \n",
    "the_weight = float(input(\"Enter the weight in kg: \"))  \n",
    "# defining a function for BMI  \n",
    "the_BMI = the_weight / (the_height/100)**2  \n",
    "# printing the BMI  \n",
    "print(\"Your Body Mass Index is\", the_BMI)  \n",
    "# using the if-elif-else conditions  \n",
    "if the_BMI <= 18.5:  \n",
    "    print(\"Oops! You are underweight.\")  \n",
    "elif the_BMI <= 24.9:  \n",
    "    print(\"Awesome! You are healthy.\")  \n",
    "elif the_BMI <= 29.9:  \n",
    "    the_print(\"Eee! You are over weight.\")  \n",
    "else:  \n",
    "    print(\"Seesh! You are obese.\")  "
   ]
  },
  {
   "cell_type": "code",
   "execution_count": 145,
   "id": "94c7fd30",
   "metadata": {},
   "outputs": [],
   "source": [
    "# 31. Create a program that validates a password based on complexity rules (length, characters, etc.)."
   ]
  },
  {
   "cell_type": "code",
   "execution_count": 271,
   "id": "aab4ac5f",
   "metadata": {},
   "outputs": [
    {
     "name": "stdout",
     "output_type": "stream",
     "text": [
      "Enter the number1\n",
      "Enter the number2\n",
      "Enter the operaation +,-,/,*+\n",
      "3\n"
     ]
    }
   ],
   "source": [
    "#32. Develop a program that performs matrix addition and subtraction based on user input.\n",
    "a=int(input(\"Enter the number\"))\n",
    "b=int(input(\"Enter the number\"))\n",
    "o=input(\"Enter the operaation +,-,/,*\")\n",
    "if o==\"+\":\n",
    "    print(a+b)\n",
    "elif o==\"-\":\n",
    "    print(a-b)\n",
    "elif o==\"/\":\n",
    "    print(a/b)\n",
    "elif o==\"*\":\n",
    "    print(a*b)\n"
   ]
  },
  {
   "cell_type": "code",
   "execution_count": 13,
   "id": "6d6bd1a1",
   "metadata": {},
   "outputs": [
    {
     "name": "stdout",
     "output_type": "stream",
     "text": [
      "The gcd of 60 and 48 is : 12\n"
     ]
    }
   ],
   "source": [
    "# 33. Write a program that calculates the greatest common divisor (GCD) of #two numbers using the Euclidean\n",
    "#algorithm.\n",
    "def hcf(a, b):\n",
    "    if(b == 0):\n",
    "        return a\n",
    "    else:\n",
    "        return hcf(b, a % b)\n",
    " \n",
    "a = 60\n",
    "b = 48\n",
    " \n",
    "# prints 12\n",
    "print(\"The gcd of 60 and 48 is : \", end=\"\")\n",
    "print(hcf(60, 48))"
   ]
  },
  {
   "cell_type": "code",
   "execution_count": 148,
   "id": "2b25d2f7",
   "metadata": {},
   "outputs": [],
   "source": [
    "# 34. Build a program that performs matrix multiplication using nested loops and conditional statements."
   ]
  },
  {
   "cell_type": "code",
   "execution_count": 149,
   "id": "4030ddd2",
   "metadata": {},
   "outputs": [],
   "source": [
    "# 35. Create a program that simulates a basic text-based tic-tac-toe game against the computer."
   ]
  },
  {
   "cell_type": "code",
   "execution_count": 12,
   "id": "68dd9b34",
   "metadata": {},
   "outputs": [
    {
     "ename": "NameError",
     "evalue": "name 'FibArray' is not defined",
     "output_type": "error",
     "traceback": [
      "\u001b[0;31m---------------------------------------------------------------------------\u001b[0m",
      "\u001b[0;31mNameError\u001b[0m                                 Traceback (most recent call last)",
      "Input \u001b[0;32mIn [12]\u001b[0m, in \u001b[0;36m<cell line: 14>\u001b[0;34m()\u001b[0m\n\u001b[1;32m     10\u001b[0m         \u001b[38;5;28;01mreturn\u001b[39;00m temp_fib\n\u001b[1;32m     12\u001b[0m \u001b[38;5;66;03m# Driver Program\u001b[39;00m\n\u001b[0;32m---> 14\u001b[0m \u001b[38;5;28mprint\u001b[39m(\u001b[43mfibonacci\u001b[49m\u001b[43m(\u001b[49m\u001b[38;5;241;43m9\u001b[39;49m\u001b[43m)\u001b[49m)\n",
      "Input \u001b[0;32mIn [12]\u001b[0m, in \u001b[0;36mfibonacci\u001b[0;34m(n)\u001b[0m\n\u001b[1;32m      3\u001b[0m \u001b[38;5;28;01mif\u001b[39;00m n\u001b[38;5;241m<\u001b[39m\u001b[38;5;241m0\u001b[39m:\n\u001b[1;32m      4\u001b[0m     \u001b[38;5;28mprint\u001b[39m(\u001b[38;5;124m\"\u001b[39m\u001b[38;5;124mIncorrect input\u001b[39m\u001b[38;5;124m\"\u001b[39m)\n\u001b[0;32m----> 5\u001b[0m \u001b[38;5;28;01melif\u001b[39;00m n\u001b[38;5;241m<\u001b[39m\u001b[38;5;241m=\u001b[39m \u001b[38;5;28mlen\u001b[39m(\u001b[43mFibArray\u001b[49m):\n\u001b[1;32m      6\u001b[0m     \u001b[38;5;28;01mreturn\u001b[39;00m FibArray[n\u001b[38;5;241m-\u001b[39m\u001b[38;5;241m1\u001b[39m]\n\u001b[1;32m      7\u001b[0m \u001b[38;5;28;01melse\u001b[39;00m:\n",
      "\u001b[0;31mNameError\u001b[0m: name 'FibArray' is not defined"
     ]
    }
   ],
   "source": [
    "#36. Write a program that generates Fibonacci numbers up to a specified term using iterative methods.\n",
    "def fibonacci(n):\n",
    "    if n<0:\n",
    "        print(\"Incorrect input\")\n",
    "    elif n<= len(FibArray):\n",
    "        return FibArray[n-1]\n",
    "    else:\n",
    "        temp_fib = fibonacci(n-1)+fibonacci(n-2)\n",
    "        FibArray.append(temp_fib)\n",
    "        return temp_fib\n",
    " \n",
    "# Driver Program\n",
    " \n",
    "print(fibonacci(9))"
   ]
  },
  {
   "cell_type": "code",
   "execution_count": 9,
   "id": "c9e83f7c",
   "metadata": {},
   "outputs": [
    {
     "ename": "SyntaxError",
     "evalue": "'return' outside function (1677062042.py, line 6)",
     "output_type": "error",
     "traceback": [
      "\u001b[0;36m  Input \u001b[0;32mIn [9]\u001b[0;36m\u001b[0m\n\u001b[0;31m    return 0\u001b[0m\n\u001b[0m    ^\u001b[0m\n\u001b[0;31mSyntaxError\u001b[0m\u001b[0;31m:\u001b[0m 'return' outside function\n"
     ]
    }
   ],
   "source": [
    "# 37. Develop a program that calculates the nth term of the Fibonacci sequence using memoization.def Fibonacci(n):\n",
    "if n<= 0:    \n",
    "    print(\"Incorrect input\")\n",
    "    # First Fibonacci number is 0\n",
    "elif n == 1:\n",
    "    return 0\n",
    "    # Second Fibonacci number is 1\n",
    "elif n == 2:\n",
    "    return 1\n",
    "else:\n",
    "    return Fibonacci(n-1)+Fibonacci(n-2)\n",
    " \n",
    "# Driver Program\n",
    " \n",
    "print(Fibonacci(10))"
   ]
  },
  {
   "cell_type": "code",
   "execution_count": 3,
   "id": "4f35fe34",
   "metadata": {},
   "outputs": [
    {
     "name": "stdout",
     "output_type": "stream",
     "text": [
      "Please enter the Year: 2023\n",
      "Please enter the month: 9\n",
      "The Calendar of:     September 2023\n",
      "Mo Tu We Th Fr Sa Su\n",
      "             1  2  3\n",
      " 4  5  6  7  8  9 10\n",
      "11 12 13 14 15 16 17\n",
      "18 19 20 21 22 23 24\n",
      "25 26 27 28 29 30\n",
      "\n"
     ]
    },
    {
     "data": {
      "text/plain": [
       "6"
      ]
     },
     "execution_count": 3,
     "metadata": {},
     "output_type": "execute_result"
    }
   ],
   "source": [
    "#38. Create a program that generates a calendar for a given month and year using conditional statements.\n",
    "import calendar  \n",
    "  \n",
    "year = int(input (\"Please enter the Year: \")) # Here, it will take the year  \n",
    "month = int(input (\"Please enter the month: \"))    # Here, it will take the month  \n",
    "  \n",
    "# Now, we will display the calendar  \n",
    "print (\"The Calendar of: \", calendar.month(year, month))  \n"
   ]
  },
  {
   "cell_type": "code",
   "execution_count": 1,
   "id": "cb4f56fe",
   "metadata": {},
   "outputs": [
    {
     "name": "stdout",
     "output_type": "stream",
     "text": [
      "Enter the number21\n",
      "DEALER BUSTED!!! YOU WIN!!!\n",
      "DEALER WINS!!!\n"
     ]
    }
   ],
   "source": [
    "# 39. Build a program that simulates a basic text-based blackjack game against the computer.\n",
    "import random\n",
    "dealer_score=random.randint(1,25)\n",
    "player_score=int(input(\"Enter the number\"))\n",
    "if dealer_score > 21:        \n",
    "    print(\"DEALER BUSTED!!! YOU WIN!!!\") \n",
    "    quit()  \n",
    " \n",
    "# Dealer gets a blackjack\n",
    "if dealer_score == 21:\n",
    "    print(\"DEALER HAS A BLACKJACK!!! PLAYER LOSES\")\n",
    "    quit()\n",
    " \n",
    "# TIE Game\n",
    "if dealer_score == player_score:\n",
    "    print(\"TIE GAME!!!!\")\n",
    " \n",
    "# Player Wins\n",
    "elif player_score > dealer_score:\n",
    "    print(\"PLAYER WINS!!!\")                 \n",
    " \n",
    "# Dealer Wins\n",
    "else:\n",
    "    print(\"DEALER WINS!!!\")  "
   ]
  },
  {
   "cell_type": "code",
   "execution_count": 293,
   "id": "e18e8d75",
   "metadata": {},
   "outputs": [
    {
     "name": "stdout",
     "output_type": "stream",
     "text": [
      "Composite\n"
     ]
    }
   ],
   "source": [
    "def TrialDivision(N):\n",
    " \n",
    "    # Initializing with the value 2\n",
    "    # from where the number is checked\n",
    "    i = 2\n",
    " \n",
    "    # Computing the square root of\n",
    "    # the number N\n",
    "    k = int(N ** 0.5)\n",
    " \n",
    "    # While loop till the\n",
    "    # square root of N\n",
    "    while(i<= k):\n",
    " \n",
    "        # If any of the numbers between\n",
    "        # [2, sqrt(N)] is a factor of N\n",
    "        # Then the number is composite\n",
    "        if(N % i == 0):\n",
    "            return 0\n",
    "        i += 1\n",
    " \n",
    "    # If none of the numbers is a factor,\n",
    "    # then it is a prime number\n",
    "    return 1\n",
    "     \n",
    "# Driver code\n",
    "if __name__ == \"__main__\":\n",
    "    N = 49\n",
    "    p = TrialDivision(N)\n",
    " \n",
    "# To check if a number is a prime or not\n",
    "    if(p):\n",
    "        print(\"Prime\")\n",
    "    else:\n",
    "        print(\"Composite\")# 40. Write a program that generates the prime factors of a given number using trial division."
   ]
  },
  {
   "cell_type": "code",
   "execution_count": 295,
   "id": "1a1b09ed",
   "metadata": {},
   "outputs": [
    {
     "name": "stdout",
     "output_type": "stream",
     "text": [
      "<mysql.connector.connection.MySQLConnection object at 0x7fda99686c40>\n"
     ]
    }
   ],
   "source": [
    "import mysql.connector\n",
    "\n",
    "mydb = mysql.connector.connect(\n",
    "  host=\"localhost\",\n",
    "  user=\"root\",\n",
    "  password=\"Abhi8130\"\n",
    ")\n",
    "\n",
    "print(mydb)"
   ]
  },
  {
   "cell_type": "code",
   "execution_count": 297,
   "id": "8ca8db95",
   "metadata": {},
   "outputs": [
    {
     "name": "stdout",
     "output_type": "stream",
     "text": [
      "('ineuron',)\n",
      "('information_schema',)\n",
      "('Mishra',)\n",
      "('mysql',)\n",
      "('mysql_python',)\n",
      "('oracle',)\n",
      "('performance_schema',)\n",
      "('W3school',)\n"
     ]
    }
   ],
   "source": [
    "import mysql.connector\n",
    "\n",
    "mydb = mysql.connector.connect(\n",
    "  host=\"localhost\",\n",
    "  user=\"root\",\n",
    "  password=\"Abhi8130\"\n",
    ")\n",
    "\n",
    "mycursor = mydb.cursor()\n",
    "\n",
    "mycursor.execute(\"SHOW DATABASES\")\n",
    "\n",
    "for x in mycursor:\n",
    "  print(x)"
   ]
  },
  {
   "cell_type": "code",
   "execution_count": null,
   "id": "917d22b2",
   "metadata": {},
   "outputs": [],
   "source": []
  }
 ],
 "metadata": {
  "kernelspec": {
   "display_name": "Python 3 (ipykernel)",
   "language": "python",
   "name": "python3"
  },
  "language_info": {
   "codemirror_mode": {
    "name": "ipython",
    "version": 3
   },
   "file_extension": ".py",
   "mimetype": "text/x-python",
   "name": "python",
   "nbconvert_exporter": "python",
   "pygments_lexer": "ipython3",
   "version": "3.9.12"
  }
 },
 "nbformat": 4,
 "nbformat_minor": 5
}
